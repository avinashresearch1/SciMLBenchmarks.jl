{
  "cells": [
    {
      "cell_type": "markdown",
      "source": [
        "# Mackey and Glass Work-Precision Diagrams\n### David Widmann, Chris Rackauckas\n\n# Model\n\nWe study a model of blood production that was published by M. C. Mackey and L. Glass in \"Oscillation and chaos in physiological control systems\", 1977, and is given by\n```math\n\\begin{equation}\n y'(t) = \\frac{0.2y(t-14)}{1 + y(t-14)^{10}} - 0.1y(t)\n\\end{equation}\n```\nfor ``t \\in [0, 500]`` with history function ``\\phi(t) = 0.5`` for ``t \\leq 0``. It is test problem A1 of W. H. Enright and H. Hayashi, \"The evaluation of numerical software for delay differential equations\", 1997.\n\n# Setup"
      ],
      "metadata": {}
    },
    {
      "outputs": [],
      "cell_type": "code",
      "source": [
        "using DelayDiffEq, DiffEqDevTools, DiffEqProblemLibrary.DDEProblemLibrary\nDDEProblemLibrary.importddeproblems()\n\nconst prob = DDEProblemLibrary.prob_dde_DDETST_A1\nconst sol = solve(prob, MethodOfSteps(Vern9()); dtmax = 0.1, reltol = 1e-14, abstol = 1e-14)\nconst test_sol = TestSolution(sol)\n\nusing Plots\ngr()\nplot(sol)"
      ],
      "metadata": {},
      "execution_count": null
    },
    {
      "outputs": [],
      "cell_type": "code",
      "source": [
        "function buildWorkPrecisionSet(algs, abstols, reltols; kwargs...)\n    setups = [Dict(:alg => MethodOfSteps(alg)) for alg in algs]\n    names = nameof.(typeof.(algs))\n\n    WorkPrecisionSet(prob, abstols, reltols, setups;\n                     names = names, appxsol = test_sol, maxiters = Int(1e5), kwargs...)\nend"
      ],
      "metadata": {},
      "execution_count": null
    },
    {
      "cell_type": "markdown",
      "source": [
        "## Low order RK methods\n\n### High tolerances\n\nFirst we test final error estimates of continuous RK methods of low order at high tolerances. `OwrenZen4`, `OwrenZen5`, and `RK4` yield the best error estimates."
      ],
      "metadata": {}
    },
    {
      "outputs": [],
      "cell_type": "code",
      "source": [
        "abstols = @. 1.0 / 10.0^(4:7)\nreltols = @. 1.0 / 10.0^(1:4)\nalgs = [BS3(), Tsit5(), RK4(), DP5(), OwrenZen3(), OwrenZen4(), OwrenZen5()]\n\nwp = buildWorkPrecisionSet(algs, abstols, reltols; error_estimate = :final)\nplot(wp)"
      ],
      "metadata": {},
      "execution_count": null
    },
    {
      "cell_type": "markdown",
      "source": [
        "Next we test average interpolation errors:"
      ],
      "metadata": {}
    },
    {
      "outputs": [],
      "cell_type": "code",
      "source": [
        "abstols = @. 1.0 / 10.0^(4:7)\nreltols = @. 1.0 / 10.0^(1:4)\nalgs = [BS3(), Tsit5(), RK4(), DP5(), OwrenZen3(), OwrenZen4(), OwrenZen5()]\n\nwp = buildWorkPrecisionSet(algs, abstols, reltols; error_estimate = :L2)\nplot(wp)"
      ],
      "metadata": {},
      "execution_count": null
    },
    {
      "cell_type": "markdown",
      "source": [
        "As before, `OwrenZen4` and `OwrenZen5` perform well over the whole range of investigated tolerances.\n\n### Low tolerances\n\nWe repeat our tests with low tolerances."
      ],
      "metadata": {}
    },
    {
      "outputs": [],
      "cell_type": "code",
      "source": [
        "abstols = @. 1.0 / 10.0^(8:11)\nreltols = @. 1.0 / 10.0^(5:8)\nalgs = [BS3(), Tsit5(), RK4(), DP5(), OwrenZen3(), OwrenZen4(), OwrenZen5()]\n\nwp = buildWorkPrecisionSet(algs, abstols, reltols; error_estimate = :final)\nplot(wp)"
      ],
      "metadata": {},
      "execution_count": null
    },
    {
      "cell_type": "markdown",
      "source": [
        "And once again we also test the interpolation errors:"
      ],
      "metadata": {}
    },
    {
      "outputs": [],
      "cell_type": "code",
      "source": [
        "abstols = @. 1.0 / 10.0^(8:11)\nreltols = @. 1.0 / 10.0^(5:8)\nalgs = [BS3(), Tsit5(), RK4(), DP5(), OwrenZen3(), OwrenZen4(), OwrenZen5()]\n\nwp = buildWorkPrecisionSet(algs, abstols, reltols; error_estimate = :L2)\nplot(wp)"
      ],
      "metadata": {},
      "execution_count": null
    },
    {
      "cell_type": "markdown",
      "source": [
        "Apparently `Tsit5` and `DP5` perform quite well at low tolerances, but only `OwrenZen5`, `OwrenZen4` and `RK4` achieve interpolation errors of around 1e-9.\n\n## Lazy interpolants\n\n### High tolerances\n\nWe repeat our tests with the Verner methods which, in contrast to the methods above, use lazy interpolants. As reference we include `OwrenZen4`."
      ],
      "metadata": {}
    },
    {
      "outputs": [],
      "cell_type": "code",
      "source": [
        "abstols = @. 1.0 / 10.0^(4:7)\nreltols = @. 1.0 / 10.0^(1:4)\nalgs = [Vern6(), Vern7(), Vern8(), Vern9(), OwrenZen4()]\n\nwp = buildWorkPrecisionSet(algs, abstols, reltols; error_estimate = :final)\nplot(wp)"
      ],
      "metadata": {},
      "execution_count": null
    },
    {
      "cell_type": "markdown",
      "source": [
        "And we obtain the following interpolation errors:"
      ],
      "metadata": {}
    },
    {
      "outputs": [],
      "cell_type": "code",
      "source": [
        "abstols = @. 1.0 / 10.0^(4:7)\nreltols = @. 1.0 / 10.0^(1:4)\nalgs = [Vern6(), Vern7(), Vern8(), Vern9(), OwrenZen4()]\n\nwp = buildWorkPrecisionSet(algs, abstols, reltols; error_estimate = :L2)\nplot(wp)"
      ],
      "metadata": {},
      "execution_count": null
    },
    {
      "cell_type": "markdown",
      "source": [
        "`Vern6`, `Vern7`, and `Vern9` are outperformed by `OwrenZen4`.\n\n### Low tolerances\n\nAgain, we repeat our tests at low tolerances."
      ],
      "metadata": {}
    },
    {
      "outputs": [],
      "cell_type": "code",
      "source": [
        "abstols = @. 1.0 / 10.0^(8:11)\nreltols = @. 1.0 / 10.0^(5:8)\nalgs = [Vern6(), Vern7(), Vern8(), Vern9(), OwrenZen4()]\n\nwp = buildWorkPrecisionSet(algs, abstols, reltols; error_estimate = :final)\nplot(wp)"
      ],
      "metadata": {},
      "execution_count": null
    },
    {
      "outputs": [],
      "cell_type": "code",
      "source": [
        "abstols = @. 1.0 / 10.0^(8:11)\nreltols = @. 1.0 / 10.0^(5:8)\nalgs = [Vern6(), Vern7(), Vern8(), Vern9(), OwrenZen4()]\n\nwp = buildWorkPrecisionSet(algs, abstols, reltols; error_estimate = :L2)\nplot(wp)"
      ],
      "metadata": {},
      "execution_count": null
    },
    {
      "cell_type": "markdown",
      "source": [
        "`Vern6`, `Vern7`, and `Vern9` show similar results at low tolerances, and perform even better than `OwrenZen4`."
      ],
      "metadata": {}
    },
    {
      "outputs": [],
      "cell_type": "code",
      "source": [
        "using DiffEqBenchmarks\nDiffEqBenchmarks.bench_footer(WEAVE_ARGS[:folder], WEAVE_ARGS[:file])"
      ],
      "metadata": {},
      "execution_count": null
    }
  ],
  "nbformat_minor": 2,
  "metadata": {
    "language_info": {
      "file_extension": ".jl",
      "mimetype": "application/julia",
      "name": "julia",
      "version": "1.1.1"
    },
    "kernelspec": {
      "name": "julia-1.1",
      "display_name": "Julia 1.1.1",
      "language": "julia"
    }
  },
  "nbformat": 4
}
